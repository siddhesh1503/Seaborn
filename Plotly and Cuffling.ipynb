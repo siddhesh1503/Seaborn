{
 "cells": [
  {
   "cell_type": "code",
   "execution_count": 1,
   "id": "b4b360a4-683c-4886-9d0b-10e46e595fb8",
   "metadata": {},
   "outputs": [
    {
     "name": "stdout",
     "output_type": "stream",
     "text": [
      "Found existing installation: plotly 4.14.3\n",
      "Uninstalling plotly-4.14.3:\n",
      "  Successfully uninstalled plotly-4.14.3\n",
      "Found existing installation: cufflinks 0.17.3\n",
      "Uninstalling cufflinks-0.17.3:\n",
      "  Successfully uninstalled cufflinks-0.17.3\n",
      "Collecting plotly==4.14.3\n",
      "  Using cached plotly-4.14.3-py2.py3-none-any.whl.metadata (7.6 kB)\n",
      "Requirement already satisfied: retrying>=1.3.3 in c:\\users\\91892\\.conda\\envs\\myenv\\lib\\site-packages (from plotly==4.14.3) (1.4.2)\n",
      "Requirement already satisfied: six in c:\\users\\91892\\.conda\\envs\\myenv\\lib\\site-packages (from plotly==4.14.3) (1.17.0)\n",
      "Using cached plotly-4.14.3-py2.py3-none-any.whl (13.2 MB)\n",
      "Installing collected packages: plotly\n",
      "Successfully installed plotly-4.14.3\n",
      "Collecting cufflinks\n",
      "  Using cached cufflinks-0.17.3-py3-none-any.whl\n",
      "Requirement already satisfied: numpy>=1.9.2 in c:\\users\\91892\\.conda\\envs\\myenv\\lib\\site-packages (from cufflinks) (2.2.5)\n",
      "Requirement already satisfied: pandas>=0.19.2 in c:\\users\\91892\\.conda\\envs\\myenv\\lib\\site-packages (from cufflinks) (2.3.2)\n",
      "Requirement already satisfied: plotly>=4.1.1 in c:\\users\\91892\\.conda\\envs\\myenv\\lib\\site-packages (from cufflinks) (4.14.3)\n",
      "Requirement already satisfied: six>=1.9.0 in c:\\users\\91892\\.conda\\envs\\myenv\\lib\\site-packages (from cufflinks) (1.17.0)\n",
      "Requirement already satisfied: colorlover>=0.2.1 in c:\\users\\91892\\.conda\\envs\\myenv\\lib\\site-packages (from cufflinks) (0.3.0)\n",
      "Requirement already satisfied: setuptools>=34.4.1 in c:\\users\\91892\\.conda\\envs\\myenv\\lib\\site-packages (from cufflinks) (72.1.0)\n",
      "Requirement already satisfied: ipython>=5.3.0 in c:\\users\\91892\\.conda\\envs\\myenv\\lib\\site-packages (from cufflinks) (8.37.0)\n",
      "Requirement already satisfied: ipywidgets>=7.0.0 in c:\\users\\91892\\.conda\\envs\\myenv\\lib\\site-packages (from cufflinks) (8.1.7)\n",
      "Requirement already satisfied: colorama in c:\\users\\91892\\.conda\\envs\\myenv\\lib\\site-packages (from ipython>=5.3.0->cufflinks) (0.4.6)\n",
      "Requirement already satisfied: decorator in c:\\users\\91892\\.conda\\envs\\myenv\\lib\\site-packages (from ipython>=5.3.0->cufflinks) (5.2.1)\n",
      "Requirement already satisfied: exceptiongroup in c:\\users\\91892\\.conda\\envs\\myenv\\lib\\site-packages (from ipython>=5.3.0->cufflinks) (1.3.0)\n",
      "Requirement already satisfied: jedi>=0.16 in c:\\users\\91892\\.conda\\envs\\myenv\\lib\\site-packages (from ipython>=5.3.0->cufflinks) (0.19.2)\n",
      "Requirement already satisfied: matplotlib-inline in c:\\users\\91892\\.conda\\envs\\myenv\\lib\\site-packages (from ipython>=5.3.0->cufflinks) (0.1.7)\n",
      "Requirement already satisfied: prompt_toolkit<3.1.0,>=3.0.41 in c:\\users\\91892\\.conda\\envs\\myenv\\lib\\site-packages (from ipython>=5.3.0->cufflinks) (3.0.52)\n",
      "Requirement already satisfied: pygments>=2.4.0 in c:\\users\\91892\\.conda\\envs\\myenv\\lib\\site-packages (from ipython>=5.3.0->cufflinks) (2.19.2)\n",
      "Requirement already satisfied: stack_data in c:\\users\\91892\\.conda\\envs\\myenv\\lib\\site-packages (from ipython>=5.3.0->cufflinks) (0.6.3)\n",
      "Requirement already satisfied: traitlets>=5.13.0 in c:\\users\\91892\\.conda\\envs\\myenv\\lib\\site-packages (from ipython>=5.3.0->cufflinks) (5.14.3)\n",
      "Requirement already satisfied: typing_extensions>=4.6 in c:\\users\\91892\\.conda\\envs\\myenv\\lib\\site-packages (from ipython>=5.3.0->cufflinks) (4.15.0)\n",
      "Requirement already satisfied: wcwidth in c:\\users\\91892\\.conda\\envs\\myenv\\lib\\site-packages (from prompt_toolkit<3.1.0,>=3.0.41->ipython>=5.3.0->cufflinks) (0.2.13)\n",
      "Requirement already satisfied: comm>=0.1.3 in c:\\users\\91892\\.conda\\envs\\myenv\\lib\\site-packages (from ipywidgets>=7.0.0->cufflinks) (0.2.3)\n",
      "Requirement already satisfied: widgetsnbextension~=4.0.14 in c:\\users\\91892\\.conda\\envs\\myenv\\lib\\site-packages (from ipywidgets>=7.0.0->cufflinks) (4.0.14)\n",
      "Requirement already satisfied: jupyterlab_widgets~=3.0.15 in c:\\users\\91892\\.conda\\envs\\myenv\\lib\\site-packages (from ipywidgets>=7.0.0->cufflinks) (3.0.15)\n",
      "Requirement already satisfied: parso<0.9.0,>=0.8.4 in c:\\users\\91892\\.conda\\envs\\myenv\\lib\\site-packages (from jedi>=0.16->ipython>=5.3.0->cufflinks) (0.8.5)\n",
      "Requirement already satisfied: python-dateutil>=2.8.2 in c:\\users\\91892\\.conda\\envs\\myenv\\lib\\site-packages (from pandas>=0.19.2->cufflinks) (2.9.0.post0)\n",
      "Requirement already satisfied: pytz>=2020.1 in c:\\users\\91892\\.conda\\envs\\myenv\\lib\\site-packages (from pandas>=0.19.2->cufflinks) (2025.2)\n",
      "Requirement already satisfied: tzdata>=2022.7 in c:\\users\\91892\\.conda\\envs\\myenv\\lib\\site-packages (from pandas>=0.19.2->cufflinks) (2025.2)\n",
      "Requirement already satisfied: retrying>=1.3.3 in c:\\users\\91892\\.conda\\envs\\myenv\\lib\\site-packages (from plotly>=4.1.1->cufflinks) (1.4.2)\n",
      "Requirement already satisfied: executing>=1.2.0 in c:\\users\\91892\\.conda\\envs\\myenv\\lib\\site-packages (from stack_data->ipython>=5.3.0->cufflinks) (2.2.1)\n",
      "Requirement already satisfied: asttokens>=2.1.0 in c:\\users\\91892\\.conda\\envs\\myenv\\lib\\site-packages (from stack_data->ipython>=5.3.0->cufflinks) (3.0.0)\n",
      "Requirement already satisfied: pure-eval in c:\\users\\91892\\.conda\\envs\\myenv\\lib\\site-packages (from stack_data->ipython>=5.3.0->cufflinks) (0.2.3)\n",
      "Installing collected packages: cufflinks\n",
      "Successfully installed cufflinks-0.17.3\n"
     ]
    }
   ],
   "source": [
    "!pip uninstall -y plotly cufflinks\n",
    "!pip install plotly==4.14.3\n",
    "!pip install cufflinks --use-pep517"
   ]
  },
  {
   "cell_type": "code",
   "execution_count": 2,
   "id": "c47c8093-39f8-44a9-869c-85636e51b186",
   "metadata": {},
   "outputs": [
    {
     "name": "stdout",
     "output_type": "stream",
     "text": [
      "Requirement already satisfied: plotly==4.14.3 in c:\\users\\91892\\.conda\\envs\\myenv\\lib\\site-packages (4.14.3)\n",
      "Requirement already satisfied: cufflinks==0.17.3 in c:\\users\\91892\\.conda\\envs\\myenv\\lib\\site-packages (0.17.3)\n",
      "Requirement already satisfied: retrying>=1.3.3 in c:\\users\\91892\\.conda\\envs\\myenv\\lib\\site-packages (from plotly==4.14.3) (1.4.2)\n",
      "Requirement already satisfied: six in c:\\users\\91892\\.conda\\envs\\myenv\\lib\\site-packages (from plotly==4.14.3) (1.17.0)\n",
      "Requirement already satisfied: numpy>=1.9.2 in c:\\users\\91892\\.conda\\envs\\myenv\\lib\\site-packages (from cufflinks==0.17.3) (2.2.5)\n",
      "Requirement already satisfied: pandas>=0.19.2 in c:\\users\\91892\\.conda\\envs\\myenv\\lib\\site-packages (from cufflinks==0.17.3) (2.3.2)\n",
      "Requirement already satisfied: colorlover>=0.2.1 in c:\\users\\91892\\.conda\\envs\\myenv\\lib\\site-packages (from cufflinks==0.17.3) (0.3.0)\n",
      "Requirement already satisfied: setuptools>=34.4.1 in c:\\users\\91892\\.conda\\envs\\myenv\\lib\\site-packages (from cufflinks==0.17.3) (72.1.0)\n",
      "Requirement already satisfied: ipython>=5.3.0 in c:\\users\\91892\\.conda\\envs\\myenv\\lib\\site-packages (from cufflinks==0.17.3) (8.37.0)\n",
      "Requirement already satisfied: ipywidgets>=7.0.0 in c:\\users\\91892\\.conda\\envs\\myenv\\lib\\site-packages (from cufflinks==0.17.3) (8.1.7)\n",
      "Requirement already satisfied: colorama in c:\\users\\91892\\.conda\\envs\\myenv\\lib\\site-packages (from ipython>=5.3.0->cufflinks==0.17.3) (0.4.6)\n",
      "Requirement already satisfied: decorator in c:\\users\\91892\\.conda\\envs\\myenv\\lib\\site-packages (from ipython>=5.3.0->cufflinks==0.17.3) (5.2.1)\n",
      "Requirement already satisfied: exceptiongroup in c:\\users\\91892\\.conda\\envs\\myenv\\lib\\site-packages (from ipython>=5.3.0->cufflinks==0.17.3) (1.3.0)\n",
      "Requirement already satisfied: jedi>=0.16 in c:\\users\\91892\\.conda\\envs\\myenv\\lib\\site-packages (from ipython>=5.3.0->cufflinks==0.17.3) (0.19.2)\n",
      "Requirement already satisfied: matplotlib-inline in c:\\users\\91892\\.conda\\envs\\myenv\\lib\\site-packages (from ipython>=5.3.0->cufflinks==0.17.3) (0.1.7)\n",
      "Requirement already satisfied: prompt_toolkit<3.1.0,>=3.0.41 in c:\\users\\91892\\.conda\\envs\\myenv\\lib\\site-packages (from ipython>=5.3.0->cufflinks==0.17.3) (3.0.52)\n",
      "Requirement already satisfied: pygments>=2.4.0 in c:\\users\\91892\\.conda\\envs\\myenv\\lib\\site-packages (from ipython>=5.3.0->cufflinks==0.17.3) (2.19.2)\n",
      "Requirement already satisfied: stack_data in c:\\users\\91892\\.conda\\envs\\myenv\\lib\\site-packages (from ipython>=5.3.0->cufflinks==0.17.3) (0.6.3)\n",
      "Requirement already satisfied: traitlets>=5.13.0 in c:\\users\\91892\\.conda\\envs\\myenv\\lib\\site-packages (from ipython>=5.3.0->cufflinks==0.17.3) (5.14.3)\n",
      "Requirement already satisfied: typing_extensions>=4.6 in c:\\users\\91892\\.conda\\envs\\myenv\\lib\\site-packages (from ipython>=5.3.0->cufflinks==0.17.3) (4.15.0)\n",
      "Requirement already satisfied: wcwidth in c:\\users\\91892\\.conda\\envs\\myenv\\lib\\site-packages (from prompt_toolkit<3.1.0,>=3.0.41->ipython>=5.3.0->cufflinks==0.17.3) (0.2.13)\n",
      "Requirement already satisfied: comm>=0.1.3 in c:\\users\\91892\\.conda\\envs\\myenv\\lib\\site-packages (from ipywidgets>=7.0.0->cufflinks==0.17.3) (0.2.3)\n",
      "Requirement already satisfied: widgetsnbextension~=4.0.14 in c:\\users\\91892\\.conda\\envs\\myenv\\lib\\site-packages (from ipywidgets>=7.0.0->cufflinks==0.17.3) (4.0.14)\n",
      "Requirement already satisfied: jupyterlab_widgets~=3.0.15 in c:\\users\\91892\\.conda\\envs\\myenv\\lib\\site-packages (from ipywidgets>=7.0.0->cufflinks==0.17.3) (3.0.15)\n",
      "Requirement already satisfied: parso<0.9.0,>=0.8.4 in c:\\users\\91892\\.conda\\envs\\myenv\\lib\\site-packages (from jedi>=0.16->ipython>=5.3.0->cufflinks==0.17.3) (0.8.5)\n",
      "Requirement already satisfied: python-dateutil>=2.8.2 in c:\\users\\91892\\.conda\\envs\\myenv\\lib\\site-packages (from pandas>=0.19.2->cufflinks==0.17.3) (2.9.0.post0)\n",
      "Requirement already satisfied: pytz>=2020.1 in c:\\users\\91892\\.conda\\envs\\myenv\\lib\\site-packages (from pandas>=0.19.2->cufflinks==0.17.3) (2025.2)\n",
      "Requirement already satisfied: tzdata>=2022.7 in c:\\users\\91892\\.conda\\envs\\myenv\\lib\\site-packages (from pandas>=0.19.2->cufflinks==0.17.3) (2025.2)\n",
      "Requirement already satisfied: executing>=1.2.0 in c:\\users\\91892\\.conda\\envs\\myenv\\lib\\site-packages (from stack_data->ipython>=5.3.0->cufflinks==0.17.3) (2.2.1)\n",
      "Requirement already satisfied: asttokens>=2.1.0 in c:\\users\\91892\\.conda\\envs\\myenv\\lib\\site-packages (from stack_data->ipython>=5.3.0->cufflinks==0.17.3) (3.0.0)\n",
      "Requirement already satisfied: pure-eval in c:\\users\\91892\\.conda\\envs\\myenv\\lib\\site-packages (from stack_data->ipython>=5.3.0->cufflinks==0.17.3) (0.2.3)\n"
     ]
    }
   ],
   "source": [
    "!pip install plotly==4.14.3 cufflinks==0.17.3\n"
   ]
  },
  {
   "cell_type": "code",
   "execution_count": 1,
   "id": "b3b19dd4-3a0a-4acb-b1e2-58e176479a1b",
   "metadata": {},
   "outputs": [
    {
     "ename": "AttributeError",
     "evalue": "module 'numpy' has no attribute 'bool8'",
     "output_type": "error",
     "traceback": [
      "\u001b[1;31m---------------------------------------------------------------------------\u001b[0m",
      "\u001b[1;31mAttributeError\u001b[0m                            Traceback (most recent call last)",
      "Cell \u001b[1;32mIn[1], line 3\u001b[0m\n\u001b[0;32m      1\u001b[0m \u001b[38;5;28;01mimport\u001b[39;00m\u001b[38;5;250m \u001b[39m\u001b[38;5;21;01mseaborn\u001b[39;00m\u001b[38;5;250m \u001b[39m\u001b[38;5;28;01mas\u001b[39;00m\u001b[38;5;250m \u001b[39m\u001b[38;5;21;01msns\u001b[39;00m\n\u001b[0;32m      2\u001b[0m \u001b[38;5;28;01mimport\u001b[39;00m\u001b[38;5;250m \u001b[39m\u001b[38;5;21;01mpandas\u001b[39;00m\u001b[38;5;250m \u001b[39m\u001b[38;5;28;01mas\u001b[39;00m\u001b[38;5;250m \u001b[39m\u001b[38;5;21;01mpd\u001b[39;00m\n\u001b[1;32m----> 3\u001b[0m \u001b[38;5;28;01mimport\u001b[39;00m\u001b[38;5;250m \u001b[39m\u001b[38;5;21;01mcufflinks\u001b[39;00m\u001b[38;5;250m \u001b[39m\u001b[38;5;28;01mas\u001b[39;00m\u001b[38;5;250m \u001b[39m\u001b[38;5;21;01mcf\u001b[39;00m\n\u001b[0;32m      4\u001b[0m \u001b[38;5;28;01mfrom\u001b[39;00m\u001b[38;5;250m \u001b[39m\u001b[38;5;21;01mplotly\u001b[39;00m\u001b[38;5;21;01m.\u001b[39;00m\u001b[38;5;21;01moffline\u001b[39;00m\u001b[38;5;250m \u001b[39m\u001b[38;5;28;01mimport\u001b[39;00m iplot\n",
      "File \u001b[1;32m~\\.conda\\envs\\myenv\\lib\\site-packages\\cufflinks\\__init__.py:15\u001b[0m\n\u001b[0;32m     13\u001b[0m \u001b[38;5;28;01mfrom\u001b[39;00m\u001b[38;5;250m \u001b[39m\u001b[38;5;21;01m.\u001b[39;00m\u001b[38;5;250m \u001b[39m\u001b[38;5;28;01mimport\u001b[39;00m datagen\n\u001b[0;32m     14\u001b[0m \u001b[38;5;28;01mfrom\u001b[39;00m\u001b[38;5;250m \u001b[39m\u001b[38;5;21;01m.\u001b[39;00m\u001b[38;5;250m \u001b[39m\u001b[38;5;28;01mimport\u001b[39;00m helper\n\u001b[1;32m---> 15\u001b[0m \u001b[38;5;28;01mfrom\u001b[39;00m\u001b[38;5;250m \u001b[39m\u001b[38;5;21;01m.\u001b[39;00m\u001b[38;5;250m \u001b[39m\u001b[38;5;28;01mimport\u001b[39;00m tools\n\u001b[0;32m     16\u001b[0m \u001b[38;5;28;01mfrom\u001b[39;00m\u001b[38;5;250m \u001b[39m\u001b[38;5;21;01m.\u001b[39;00m\u001b[38;5;250m \u001b[39m\u001b[38;5;28;01mimport\u001b[39;00m colors\n\u001b[0;32m     17\u001b[0m \u001b[38;5;28;01mfrom\u001b[39;00m\u001b[38;5;250m \u001b[39m\u001b[38;5;21;01m.\u001b[39;00m\u001b[38;5;250m \u001b[39m\u001b[38;5;28;01mimport\u001b[39;00m pandastools\n",
      "File \u001b[1;32m~\\.conda\\envs\\myenv\\lib\\site-packages\\cufflinks\\tools.py:6\u001b[0m\n\u001b[0;32m      4\u001b[0m \u001b[38;5;28;01mimport\u001b[39;00m\u001b[38;5;250m \u001b[39m\u001b[38;5;21;01mpandas\u001b[39;00m\u001b[38;5;250m \u001b[39m\u001b[38;5;28;01mas\u001b[39;00m\u001b[38;5;250m \u001b[39m\u001b[38;5;21;01mpd\u001b[39;00m\n\u001b[0;32m      5\u001b[0m \u001b[38;5;28;01mimport\u001b[39;00m\u001b[38;5;250m \u001b[39m\u001b[38;5;21;01mplotly\u001b[39;00m\u001b[38;5;21;01m.\u001b[39;00m\u001b[38;5;21;01moffline\u001b[39;00m\u001b[38;5;250m \u001b[39m\u001b[38;5;28;01mas\u001b[39;00m\u001b[38;5;250m \u001b[39m\u001b[38;5;21;01mpy_offline\u001b[39;00m\n\u001b[1;32m----> 6\u001b[0m \u001b[38;5;28;01mimport\u001b[39;00m\u001b[38;5;250m \u001b[39m\u001b[38;5;21;01mplotly\u001b[39;00m\u001b[38;5;21;01m.\u001b[39;00m\u001b[38;5;21;01mfigure_factory\u001b[39;00m\u001b[38;5;250m \u001b[39m\u001b[38;5;28;01mas\u001b[39;00m\u001b[38;5;250m \u001b[39m\u001b[38;5;21;01mff\u001b[39;00m\n\u001b[0;32m      7\u001b[0m \u001b[38;5;28;01mfrom\u001b[39;00m\u001b[38;5;250m \u001b[39m\u001b[38;5;21;01mplotly\u001b[39;00m\u001b[38;5;21;01m.\u001b[39;00m\u001b[38;5;21;01mgraph_objs\u001b[39;00m\u001b[38;5;250m \u001b[39m\u001b[38;5;28;01mimport\u001b[39;00m Figure, Scatter, Line\n\u001b[0;32m      8\u001b[0m \u001b[38;5;28;01mfrom\u001b[39;00m\u001b[38;5;250m \u001b[39m\u001b[38;5;21;01mplotly\u001b[39;00m\u001b[38;5;21;01m.\u001b[39;00m\u001b[38;5;21;01msubplots\u001b[39;00m\u001b[38;5;250m \u001b[39m\u001b[38;5;28;01mimport\u001b[39;00m make_subplots\n",
      "File \u001b[1;32m~\\.conda\\envs\\myenv\\lib\\site-packages\\plotly\\figure_factory\\__init__.py:32\u001b[0m\n\u001b[0;32m     30\u001b[0m \u001b[38;5;28;01mif\u001b[39;00m optional_imports\u001b[38;5;241m.\u001b[39mget_module(\u001b[38;5;124m\"\u001b[39m\u001b[38;5;124mpandas\u001b[39m\u001b[38;5;124m\"\u001b[39m) \u001b[38;5;129;01mis\u001b[39;00m \u001b[38;5;129;01mnot\u001b[39;00m \u001b[38;5;28;01mNone\u001b[39;00m:\n\u001b[0;32m     31\u001b[0m     \u001b[38;5;28;01mfrom\u001b[39;00m\u001b[38;5;250m \u001b[39m\u001b[38;5;21;01mplotly\u001b[39;00m\u001b[38;5;21;01m.\u001b[39;00m\u001b[38;5;21;01mfigure_factory\u001b[39;00m\u001b[38;5;21;01m.\u001b[39;00m\u001b[38;5;21;01m_county_choropleth\u001b[39;00m\u001b[38;5;250m \u001b[39m\u001b[38;5;28;01mimport\u001b[39;00m create_choropleth\n\u001b[1;32m---> 32\u001b[0m     \u001b[38;5;28;01mfrom\u001b[39;00m\u001b[38;5;250m \u001b[39m\u001b[38;5;21;01mplotly\u001b[39;00m\u001b[38;5;21;01m.\u001b[39;00m\u001b[38;5;21;01mfigure_factory\u001b[39;00m\u001b[38;5;21;01m.\u001b[39;00m\u001b[38;5;21;01m_hexbin_mapbox\u001b[39;00m\u001b[38;5;250m \u001b[39m\u001b[38;5;28;01mimport\u001b[39;00m create_hexbin_mapbox\n\u001b[0;32m     33\u001b[0m \u001b[38;5;28;01melse\u001b[39;00m:\n\u001b[0;32m     35\u001b[0m     \u001b[38;5;28;01mdef\u001b[39;00m\u001b[38;5;250m \u001b[39m\u001b[38;5;21mcreate_choropleth\u001b[39m(\u001b[38;5;241m*\u001b[39margs, \u001b[38;5;241m*\u001b[39m\u001b[38;5;241m*\u001b[39mkwargs):\n",
      "File \u001b[1;32m~\\.conda\\envs\\myenv\\lib\\site-packages\\plotly\\figure_factory\\_hexbin_mapbox.py:1\u001b[0m\n\u001b[1;32m----> 1\u001b[0m \u001b[38;5;28;01mfrom\u001b[39;00m\u001b[38;5;250m \u001b[39m\u001b[38;5;21;01mplotly\u001b[39;00m\u001b[38;5;21;01m.\u001b[39;00m\u001b[38;5;21;01mexpress\u001b[39;00m\u001b[38;5;21;01m.\u001b[39;00m\u001b[38;5;21;01m_core\u001b[39;00m\u001b[38;5;250m \u001b[39m\u001b[38;5;28;01mimport\u001b[39;00m build_dataframe\n\u001b[0;32m      2\u001b[0m \u001b[38;5;28;01mfrom\u001b[39;00m\u001b[38;5;250m \u001b[39m\u001b[38;5;21;01mplotly\u001b[39;00m\u001b[38;5;21;01m.\u001b[39;00m\u001b[38;5;21;01mexpress\u001b[39;00m\u001b[38;5;21;01m.\u001b[39;00m\u001b[38;5;21;01m_doc\u001b[39;00m\u001b[38;5;250m \u001b[39m\u001b[38;5;28;01mimport\u001b[39;00m make_docstring\n\u001b[0;32m      3\u001b[0m \u001b[38;5;28;01mfrom\u001b[39;00m\u001b[38;5;250m \u001b[39m\u001b[38;5;21;01mplotly\u001b[39;00m\u001b[38;5;21;01m.\u001b[39;00m\u001b[38;5;21;01mexpress\u001b[39;00m\u001b[38;5;21;01m.\u001b[39;00m\u001b[38;5;21;01m_chart_types\u001b[39;00m\u001b[38;5;250m \u001b[39m\u001b[38;5;28;01mimport\u001b[39;00m choropleth_mapbox, scatter_mapbox\n",
      "File \u001b[1;32m~\\.conda\\envs\\myenv\\lib\\site-packages\\plotly\\express\\__init__.py:15\u001b[0m\n\u001b[0;32m      9\u001b[0m \u001b[38;5;28;01mif\u001b[39;00m pd \u001b[38;5;129;01mis\u001b[39;00m \u001b[38;5;28;01mNone\u001b[39;00m:\n\u001b[0;32m     10\u001b[0m     \u001b[38;5;28;01mraise\u001b[39;00m \u001b[38;5;167;01mImportError\u001b[39;00m(\n\u001b[0;32m     11\u001b[0m \u001b[38;5;250m        \u001b[39m\u001b[38;5;124;03m\"\"\"\\\u001b[39;00m\n\u001b[0;32m     12\u001b[0m \u001b[38;5;124;03mPlotly express requires pandas to be installed.\"\"\"\u001b[39;00m\n\u001b[0;32m     13\u001b[0m     )\n\u001b[1;32m---> 15\u001b[0m \u001b[38;5;28;01mfrom\u001b[39;00m\u001b[38;5;250m \u001b[39m\u001b[38;5;21;01m.\u001b[39;00m\u001b[38;5;21;01m_imshow\u001b[39;00m\u001b[38;5;250m \u001b[39m\u001b[38;5;28;01mimport\u001b[39;00m imshow\n\u001b[0;32m     16\u001b[0m \u001b[38;5;28;01mfrom\u001b[39;00m\u001b[38;5;250m \u001b[39m\u001b[38;5;21;01m.\u001b[39;00m\u001b[38;5;21;01m_chart_types\u001b[39;00m\u001b[38;5;250m \u001b[39m\u001b[38;5;28;01mimport\u001b[39;00m (  \u001b[38;5;66;03m# noqa: F401\u001b[39;00m\n\u001b[0;32m     17\u001b[0m     scatter,\n\u001b[0;32m     18\u001b[0m     scatter_3d,\n\u001b[1;32m   (...)\u001b[0m\n\u001b[0;32m     49\u001b[0m     density_mapbox,\n\u001b[0;32m     50\u001b[0m )\n\u001b[0;32m     53\u001b[0m \u001b[38;5;28;01mfrom\u001b[39;00m\u001b[38;5;250m \u001b[39m\u001b[38;5;21;01m.\u001b[39;00m\u001b[38;5;21;01m_core\u001b[39;00m\u001b[38;5;250m \u001b[39m\u001b[38;5;28;01mimport\u001b[39;00m (  \u001b[38;5;66;03m# noqa: F401\u001b[39;00m\n\u001b[0;32m     54\u001b[0m     set_mapbox_access_token,\n\u001b[0;32m     55\u001b[0m     defaults,\n\u001b[0;32m     56\u001b[0m     get_trendline_results,\n\u001b[0;32m     57\u001b[0m     NO_COLOR,\n\u001b[0;32m     58\u001b[0m )\n",
      "File \u001b[1;32m~\\.conda\\envs\\myenv\\lib\\site-packages\\plotly\\express\\_imshow.py:4\u001b[0m\n\u001b[0;32m      2\u001b[0m \u001b[38;5;28;01mfrom\u001b[39;00m\u001b[38;5;250m \u001b[39m\u001b[38;5;21;01m_plotly_utils\u001b[39;00m\u001b[38;5;21;01m.\u001b[39;00m\u001b[38;5;21;01mbasevalidators\u001b[39;00m\u001b[38;5;250m \u001b[39m\u001b[38;5;28;01mimport\u001b[39;00m ColorscaleValidator\n\u001b[0;32m      3\u001b[0m \u001b[38;5;28;01mfrom\u001b[39;00m\u001b[38;5;250m \u001b[39m\u001b[38;5;21;01m.\u001b[39;00m\u001b[38;5;21;01m_core\u001b[39;00m\u001b[38;5;250m \u001b[39m\u001b[38;5;28;01mimport\u001b[39;00m apply_default_cascade, init_figure, configure_animation_controls\n\u001b[1;32m----> 4\u001b[0m \u001b[38;5;28;01mfrom\u001b[39;00m\u001b[38;5;250m \u001b[39m\u001b[38;5;21;01m.\u001b[39;00m\u001b[38;5;21;01mimshow_utils\u001b[39;00m\u001b[38;5;250m \u001b[39m\u001b[38;5;28;01mimport\u001b[39;00m rescale_intensity, _integer_ranges, _integer_types\n\u001b[0;32m      5\u001b[0m \u001b[38;5;28;01mimport\u001b[39;00m\u001b[38;5;250m \u001b[39m\u001b[38;5;21;01mpandas\u001b[39;00m\u001b[38;5;250m \u001b[39m\u001b[38;5;28;01mas\u001b[39;00m\u001b[38;5;250m \u001b[39m\u001b[38;5;21;01mpd\u001b[39;00m\n\u001b[0;32m      6\u001b[0m \u001b[38;5;28;01mimport\u001b[39;00m\u001b[38;5;250m \u001b[39m\u001b[38;5;21;01mnumpy\u001b[39;00m\u001b[38;5;250m \u001b[39m\u001b[38;5;28;01mas\u001b[39;00m\u001b[38;5;250m \u001b[39m\u001b[38;5;21;01mnp\u001b[39;00m\n",
      "File \u001b[1;32m~\\.conda\\envs\\myenv\\lib\\site-packages\\plotly\\express\\imshow_utils.py:24\u001b[0m\n\u001b[0;32m      9\u001b[0m _integer_types \u001b[38;5;241m=\u001b[39m (\n\u001b[0;32m     10\u001b[0m     np\u001b[38;5;241m.\u001b[39mbyte,\n\u001b[0;32m     11\u001b[0m     np\u001b[38;5;241m.\u001b[39mubyte,  \u001b[38;5;66;03m# 8 bits\u001b[39;00m\n\u001b[1;32m   (...)\u001b[0m\n\u001b[0;32m     19\u001b[0m     np\u001b[38;5;241m.\u001b[39mulonglong,\n\u001b[0;32m     20\u001b[0m )  \u001b[38;5;66;03m# 64 bits\u001b[39;00m\n\u001b[0;32m     21\u001b[0m _integer_ranges \u001b[38;5;241m=\u001b[39m {t: (np\u001b[38;5;241m.\u001b[39miinfo(t)\u001b[38;5;241m.\u001b[39mmin, np\u001b[38;5;241m.\u001b[39miinfo(t)\u001b[38;5;241m.\u001b[39mmax) \u001b[38;5;28;01mfor\u001b[39;00m t \u001b[38;5;129;01min\u001b[39;00m _integer_types}\n\u001b[0;32m     22\u001b[0m dtype_range \u001b[38;5;241m=\u001b[39m {\n\u001b[0;32m     23\u001b[0m     np\u001b[38;5;241m.\u001b[39mbool_: (\u001b[38;5;28;01mFalse\u001b[39;00m, \u001b[38;5;28;01mTrue\u001b[39;00m),\n\u001b[1;32m---> 24\u001b[0m     \u001b[43mnp\u001b[49m\u001b[38;5;241;43m.\u001b[39;49m\u001b[43mbool8\u001b[49m: (\u001b[38;5;28;01mFalse\u001b[39;00m, \u001b[38;5;28;01mTrue\u001b[39;00m),\n\u001b[0;32m     25\u001b[0m     np\u001b[38;5;241m.\u001b[39mfloat16: (\u001b[38;5;241m-\u001b[39m\u001b[38;5;241m1\u001b[39m, \u001b[38;5;241m1\u001b[39m),\n\u001b[0;32m     26\u001b[0m     np\u001b[38;5;241m.\u001b[39mfloat32: (\u001b[38;5;241m-\u001b[39m\u001b[38;5;241m1\u001b[39m, \u001b[38;5;241m1\u001b[39m),\n\u001b[0;32m     27\u001b[0m     np\u001b[38;5;241m.\u001b[39mfloat64: (\u001b[38;5;241m-\u001b[39m\u001b[38;5;241m1\u001b[39m, \u001b[38;5;241m1\u001b[39m),\n\u001b[0;32m     28\u001b[0m }\n\u001b[0;32m     29\u001b[0m dtype_range\u001b[38;5;241m.\u001b[39mupdate(_integer_ranges)\n\u001b[0;32m     32\u001b[0m DTYPE_RANGE \u001b[38;5;241m=\u001b[39m dtype_range\u001b[38;5;241m.\u001b[39mcopy()\n",
      "File \u001b[1;32m~\\.conda\\envs\\myenv\\lib\\site-packages\\numpy\\__init__.py:414\u001b[0m, in \u001b[0;36m__getattr__\u001b[1;34m(attr)\u001b[0m\n\u001b[0;32m    411\u001b[0m     \u001b[38;5;28;01mimport\u001b[39;00m\u001b[38;5;250m \u001b[39m\u001b[38;5;21;01mnumpy\u001b[39;00m\u001b[38;5;21;01m.\u001b[39;00m\u001b[38;5;21;01mchar\u001b[39;00m\u001b[38;5;250m \u001b[39m\u001b[38;5;28;01mas\u001b[39;00m\u001b[38;5;250m \u001b[39m\u001b[38;5;21;01mchar\u001b[39;00m\n\u001b[0;32m    412\u001b[0m     \u001b[38;5;28;01mreturn\u001b[39;00m char\u001b[38;5;241m.\u001b[39mchararray\n\u001b[1;32m--> 414\u001b[0m \u001b[38;5;28;01mraise\u001b[39;00m \u001b[38;5;167;01mAttributeError\u001b[39;00m(\u001b[38;5;124m\"\u001b[39m\u001b[38;5;124mmodule \u001b[39m\u001b[38;5;132;01m{!r}\u001b[39;00m\u001b[38;5;124m has no attribute \u001b[39m\u001b[38;5;124m\"\u001b[39m\n\u001b[0;32m    415\u001b[0m                      \u001b[38;5;124m\"\u001b[39m\u001b[38;5;132;01m{!r}\u001b[39;00m\u001b[38;5;124m\"\u001b[39m\u001b[38;5;241m.\u001b[39mformat(\u001b[38;5;18m__name__\u001b[39m, attr))\n",
      "\u001b[1;31mAttributeError\u001b[0m: module 'numpy' has no attribute 'bool8'"
     ]
    }
   ],
   "source": [
    "import seaborn as sns\n",
    "import pandas as pd\n",
    "import cufflinks as cf\n",
    "from plotly.offline import iplot"
   ]
  },
  {
   "cell_type": "code",
   "execution_count": null,
   "id": "f37c17af-f808-4849-b47d-e642a69ac8a8",
   "metadata": {},
   "outputs": [],
   "source": [
    "tips = sns.load_dataset(\"tips\")\n",
    "tips"
   ]
  },
  {
   "cell_type": "code",
   "execution_count": null,
   "id": "aa8cdc56-c252-4329-9e50-15c6123253e1",
   "metadata": {},
   "outputs": [],
   "source": [
    "tips.groupby('day')['tip'].mean().plot(kind='bar')"
   ]
  },
  {
   "cell_type": "code",
   "execution_count": null,
   "id": "19a5ab20-4138-4cf1-972f-0ed6bf6fe81a",
   "metadata": {},
   "outputs": [],
   "source": [
    "tips.iplot(kind='scatter',x='total_bill',y='tip',mode='markers')"
   ]
  },
  {
   "cell_type": "code",
   "execution_count": null,
   "id": "20a62941-dba4-4398-885b-a76ae88126fa",
   "metadata": {},
   "outputs": [],
   "source": []
  }
 ],
 "metadata": {
  "kernelspec": {
   "display_name": "Python (myenv)",
   "language": "python",
   "name": "myenv"
  },
  "language_info": {
   "codemirror_mode": {
    "name": "ipython",
    "version": 3
   },
   "file_extension": ".py",
   "mimetype": "text/x-python",
   "name": "python",
   "nbconvert_exporter": "python",
   "pygments_lexer": "ipython3",
   "version": "3.10.18"
  }
 },
 "nbformat": 4,
 "nbformat_minor": 5
}
