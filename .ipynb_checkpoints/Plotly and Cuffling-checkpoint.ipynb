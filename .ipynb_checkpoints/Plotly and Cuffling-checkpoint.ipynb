{
 "cells": [
  {
   "cell_type": "code",
   "execution_count": 20,
   "id": "b4b360a4-683c-4886-9d0b-10e46e595fb8",
   "metadata": {},
   "outputs": [
    {
     "name": "stdout",
     "output_type": "stream",
     "text": [
      "Found existing installation: plotly 4.14.3\n",
      "Uninstalling plotly-4.14.3:\n",
      "  Successfully uninstalled plotly-4.14.3\n",
      "Found existing installation: cufflinks 0.17.3\n",
      "Uninstalling cufflinks-0.17.3:\n",
      "  Successfully uninstalled cufflinks-0.17.3\n",
      "Collecting plotly==4.14.3\n",
      "  Using cached plotly-4.14.3-py2.py3-none-any.whl.metadata (7.6 kB)\n",
      "Requirement already satisfied: retrying>=1.3.3 in c:\\users\\91892\\.conda\\envs\\myenv\\lib\\site-packages (from plotly==4.14.3) (1.4.2)\n",
      "Requirement already satisfied: six in c:\\users\\91892\\.conda\\envs\\myenv\\lib\\site-packages (from plotly==4.14.3) (1.17.0)\n",
      "Using cached plotly-4.14.3-py2.py3-none-any.whl (13.2 MB)\n",
      "Installing collected packages: plotly\n",
      "Successfully installed plotly-4.14.3\n",
      "Collecting cufflinks\n",
      "  Using cached cufflinks-0.17.3-py3-none-any.whl\n",
      "Requirement already satisfied: numpy>=1.9.2 in c:\\users\\91892\\.conda\\envs\\myenv\\lib\\site-packages (from cufflinks) (2.2.5)\n",
      "Requirement already satisfied: pandas>=0.19.2 in c:\\users\\91892\\.conda\\envs\\myenv\\lib\\site-packages (from cufflinks) (2.3.2)\n",
      "Requirement already satisfied: plotly>=4.1.1 in c:\\users\\91892\\.conda\\envs\\myenv\\lib\\site-packages (from cufflinks) (4.14.3)\n",
      "Requirement already satisfied: six>=1.9.0 in c:\\users\\91892\\.conda\\envs\\myenv\\lib\\site-packages (from cufflinks) (1.17.0)\n",
      "Requirement already satisfied: colorlover>=0.2.1 in c:\\users\\91892\\.conda\\envs\\myenv\\lib\\site-packages (from cufflinks) (0.3.0)\n",
      "Requirement already satisfied: setuptools>=34.4.1 in c:\\users\\91892\\.conda\\envs\\myenv\\lib\\site-packages (from cufflinks) (72.1.0)\n",
      "Requirement already satisfied: ipython>=5.3.0 in c:\\users\\91892\\.conda\\envs\\myenv\\lib\\site-packages (from cufflinks) (8.37.0)\n",
      "Requirement already satisfied: ipywidgets>=7.0.0 in c:\\users\\91892\\.conda\\envs\\myenv\\lib\\site-packages (from cufflinks) (8.1.7)\n",
      "Requirement already satisfied: colorama in c:\\users\\91892\\.conda\\envs\\myenv\\lib\\site-packages (from ipython>=5.3.0->cufflinks) (0.4.6)\n",
      "Requirement already satisfied: decorator in c:\\users\\91892\\.conda\\envs\\myenv\\lib\\site-packages (from ipython>=5.3.0->cufflinks) (5.2.1)\n",
      "Requirement already satisfied: exceptiongroup in c:\\users\\91892\\.conda\\envs\\myenv\\lib\\site-packages (from ipython>=5.3.0->cufflinks) (1.3.0)\n",
      "Requirement already satisfied: jedi>=0.16 in c:\\users\\91892\\.conda\\envs\\myenv\\lib\\site-packages (from ipython>=5.3.0->cufflinks) (0.19.2)\n",
      "Requirement already satisfied: matplotlib-inline in c:\\users\\91892\\.conda\\envs\\myenv\\lib\\site-packages (from ipython>=5.3.0->cufflinks) (0.1.7)\n",
      "Requirement already satisfied: prompt_toolkit<3.1.0,>=3.0.41 in c:\\users\\91892\\.conda\\envs\\myenv\\lib\\site-packages (from ipython>=5.3.0->cufflinks) (3.0.52)\n",
      "Requirement already satisfied: pygments>=2.4.0 in c:\\users\\91892\\.conda\\envs\\myenv\\lib\\site-packages (from ipython>=5.3.0->cufflinks) (2.19.2)\n",
      "Requirement already satisfied: stack_data in c:\\users\\91892\\.conda\\envs\\myenv\\lib\\site-packages (from ipython>=5.3.0->cufflinks) (0.6.3)\n",
      "Requirement already satisfied: traitlets>=5.13.0 in c:\\users\\91892\\.conda\\envs\\myenv\\lib\\site-packages (from ipython>=5.3.0->cufflinks) (5.14.3)\n",
      "Requirement already satisfied: typing_extensions>=4.6 in c:\\users\\91892\\.conda\\envs\\myenv\\lib\\site-packages (from ipython>=5.3.0->cufflinks) (4.15.0)\n",
      "Requirement already satisfied: wcwidth in c:\\users\\91892\\.conda\\envs\\myenv\\lib\\site-packages (from prompt_toolkit<3.1.0,>=3.0.41->ipython>=5.3.0->cufflinks) (0.2.13)\n",
      "Requirement already satisfied: comm>=0.1.3 in c:\\users\\91892\\.conda\\envs\\myenv\\lib\\site-packages (from ipywidgets>=7.0.0->cufflinks) (0.2.3)\n",
      "Requirement already satisfied: widgetsnbextension~=4.0.14 in c:\\users\\91892\\.conda\\envs\\myenv\\lib\\site-packages (from ipywidgets>=7.0.0->cufflinks) (4.0.14)\n",
      "Requirement already satisfied: jupyterlab_widgets~=3.0.15 in c:\\users\\91892\\.conda\\envs\\myenv\\lib\\site-packages (from ipywidgets>=7.0.0->cufflinks) (3.0.15)\n",
      "Requirement already satisfied: parso<0.9.0,>=0.8.4 in c:\\users\\91892\\.conda\\envs\\myenv\\lib\\site-packages (from jedi>=0.16->ipython>=5.3.0->cufflinks) (0.8.5)\n",
      "Requirement already satisfied: python-dateutil>=2.8.2 in c:\\users\\91892\\.conda\\envs\\myenv\\lib\\site-packages (from pandas>=0.19.2->cufflinks) (2.9.0.post0)\n",
      "Requirement already satisfied: pytz>=2020.1 in c:\\users\\91892\\.conda\\envs\\myenv\\lib\\site-packages (from pandas>=0.19.2->cufflinks) (2025.2)\n",
      "Requirement already satisfied: tzdata>=2022.7 in c:\\users\\91892\\.conda\\envs\\myenv\\lib\\site-packages (from pandas>=0.19.2->cufflinks) (2025.2)\n",
      "Requirement already satisfied: retrying>=1.3.3 in c:\\users\\91892\\.conda\\envs\\myenv\\lib\\site-packages (from plotly>=4.1.1->cufflinks) (1.4.2)\n",
      "Requirement already satisfied: executing>=1.2.0 in c:\\users\\91892\\.conda\\envs\\myenv\\lib\\site-packages (from stack_data->ipython>=5.3.0->cufflinks) (2.2.1)\n",
      "Requirement already satisfied: asttokens>=2.1.0 in c:\\users\\91892\\.conda\\envs\\myenv\\lib\\site-packages (from stack_data->ipython>=5.3.0->cufflinks) (3.0.0)\n",
      "Requirement already satisfied: pure-eval in c:\\users\\91892\\.conda\\envs\\myenv\\lib\\site-packages (from stack_data->ipython>=5.3.0->cufflinks) (0.2.3)\n",
      "Installing collected packages: cufflinks\n",
      "Successfully installed cufflinks-0.17.3\n"
     ]
    }
   ],
   "source": [
    "!pip uninstall -y plotly cufflinks\n",
    "!pip install plotly==4.14.3\n",
    "!pip install cufflinks --use-pep517"
   ]
  },
  {
   "cell_type": "code",
   "execution_count": 24,
   "id": "c47c8093-39f8-44a9-869c-85636e51b186",
   "metadata": {},
   "outputs": [
    {
     "name": "stdout",
     "output_type": "stream",
     "text": [
      "Requirement already satisfied: plotly==4.14.3 in c:\\users\\91892\\.conda\\envs\\myenv\\lib\\site-packages (4.14.3)\n",
      "Requirement already satisfied: cufflinks==0.17.3 in c:\\users\\91892\\.conda\\envs\\myenv\\lib\\site-packages (0.17.3)\n",
      "Requirement already satisfied: retrying>=1.3.3 in c:\\users\\91892\\.conda\\envs\\myenv\\lib\\site-packages (from plotly==4.14.3) (1.4.2)\n",
      "Requirement already satisfied: six in c:\\users\\91892\\.conda\\envs\\myenv\\lib\\site-packages (from plotly==4.14.3) (1.17.0)\n",
      "Requirement already satisfied: numpy>=1.9.2 in c:\\users\\91892\\.conda\\envs\\myenv\\lib\\site-packages (from cufflinks==0.17.3) (2.2.5)\n",
      "Requirement already satisfied: pandas>=0.19.2 in c:\\users\\91892\\.conda\\envs\\myenv\\lib\\site-packages (from cufflinks==0.17.3) (2.3.2)\n",
      "Requirement already satisfied: colorlover>=0.2.1 in c:\\users\\91892\\.conda\\envs\\myenv\\lib\\site-packages (from cufflinks==0.17.3) (0.3.0)\n",
      "Requirement already satisfied: setuptools>=34.4.1 in c:\\users\\91892\\.conda\\envs\\myenv\\lib\\site-packages (from cufflinks==0.17.3) (72.1.0)\n",
      "Requirement already satisfied: ipython>=5.3.0 in c:\\users\\91892\\.conda\\envs\\myenv\\lib\\site-packages (from cufflinks==0.17.3) (8.37.0)\n",
      "Requirement already satisfied: ipywidgets>=7.0.0 in c:\\users\\91892\\.conda\\envs\\myenv\\lib\\site-packages (from cufflinks==0.17.3) (8.1.7)\n",
      "Requirement already satisfied: colorama in c:\\users\\91892\\.conda\\envs\\myenv\\lib\\site-packages (from ipython>=5.3.0->cufflinks==0.17.3) (0.4.6)\n",
      "Requirement already satisfied: decorator in c:\\users\\91892\\.conda\\envs\\myenv\\lib\\site-packages (from ipython>=5.3.0->cufflinks==0.17.3) (5.2.1)\n",
      "Requirement already satisfied: exceptiongroup in c:\\users\\91892\\.conda\\envs\\myenv\\lib\\site-packages (from ipython>=5.3.0->cufflinks==0.17.3) (1.3.0)\n",
      "Requirement already satisfied: jedi>=0.16 in c:\\users\\91892\\.conda\\envs\\myenv\\lib\\site-packages (from ipython>=5.3.0->cufflinks==0.17.3) (0.19.2)\n",
      "Requirement already satisfied: matplotlib-inline in c:\\users\\91892\\.conda\\envs\\myenv\\lib\\site-packages (from ipython>=5.3.0->cufflinks==0.17.3) (0.1.7)\n",
      "Requirement already satisfied: prompt_toolkit<3.1.0,>=3.0.41 in c:\\users\\91892\\.conda\\envs\\myenv\\lib\\site-packages (from ipython>=5.3.0->cufflinks==0.17.3) (3.0.52)\n",
      "Requirement already satisfied: pygments>=2.4.0 in c:\\users\\91892\\.conda\\envs\\myenv\\lib\\site-packages (from ipython>=5.3.0->cufflinks==0.17.3) (2.19.2)\n",
      "Requirement already satisfied: stack_data in c:\\users\\91892\\.conda\\envs\\myenv\\lib\\site-packages (from ipython>=5.3.0->cufflinks==0.17.3) (0.6.3)\n",
      "Requirement already satisfied: traitlets>=5.13.0 in c:\\users\\91892\\.conda\\envs\\myenv\\lib\\site-packages (from ipython>=5.3.0->cufflinks==0.17.3) (5.14.3)\n",
      "Requirement already satisfied: typing_extensions>=4.6 in c:\\users\\91892\\.conda\\envs\\myenv\\lib\\site-packages (from ipython>=5.3.0->cufflinks==0.17.3) (4.15.0)\n",
      "Requirement already satisfied: wcwidth in c:\\users\\91892\\.conda\\envs\\myenv\\lib\\site-packages (from prompt_toolkit<3.1.0,>=3.0.41->ipython>=5.3.0->cufflinks==0.17.3) (0.2.13)\n",
      "Requirement already satisfied: comm>=0.1.3 in c:\\users\\91892\\.conda\\envs\\myenv\\lib\\site-packages (from ipywidgets>=7.0.0->cufflinks==0.17.3) (0.2.3)\n",
      "Requirement already satisfied: widgetsnbextension~=4.0.14 in c:\\users\\91892\\.conda\\envs\\myenv\\lib\\site-packages (from ipywidgets>=7.0.0->cufflinks==0.17.3) (4.0.14)\n",
      "Requirement already satisfied: jupyterlab_widgets~=3.0.15 in c:\\users\\91892\\.conda\\envs\\myenv\\lib\\site-packages (from ipywidgets>=7.0.0->cufflinks==0.17.3) (3.0.15)\n",
      "Requirement already satisfied: parso<0.9.0,>=0.8.4 in c:\\users\\91892\\.conda\\envs\\myenv\\lib\\site-packages (from jedi>=0.16->ipython>=5.3.0->cufflinks==0.17.3) (0.8.5)\n",
      "Requirement already satisfied: python-dateutil>=2.8.2 in c:\\users\\91892\\.conda\\envs\\myenv\\lib\\site-packages (from pandas>=0.19.2->cufflinks==0.17.3) (2.9.0.post0)\n",
      "Requirement already satisfied: pytz>=2020.1 in c:\\users\\91892\\.conda\\envs\\myenv\\lib\\site-packages (from pandas>=0.19.2->cufflinks==0.17.3) (2025.2)\n",
      "Requirement already satisfied: tzdata>=2022.7 in c:\\users\\91892\\.conda\\envs\\myenv\\lib\\site-packages (from pandas>=0.19.2->cufflinks==0.17.3) (2025.2)\n",
      "Requirement already satisfied: executing>=1.2.0 in c:\\users\\91892\\.conda\\envs\\myenv\\lib\\site-packages (from stack_data->ipython>=5.3.0->cufflinks==0.17.3) (2.2.1)\n",
      "Requirement already satisfied: asttokens>=2.1.0 in c:\\users\\91892\\.conda\\envs\\myenv\\lib\\site-packages (from stack_data->ipython>=5.3.0->cufflinks==0.17.3) (3.0.0)\n",
      "Requirement already satisfied: pure-eval in c:\\users\\91892\\.conda\\envs\\myenv\\lib\\site-packages (from stack_data->ipython>=5.3.0->cufflinks==0.17.3) (0.2.3)\n"
     ]
    }
   ],
   "source": [
    "!pip install plotly==4.14.3 cufflinks==0.17.3\n"
   ]
  },
  {
   "cell_type": "code",
   "execution_count": 28,
   "id": "b3b19dd4-3a0a-4acb-b1e2-58e176479a1b",
   "metadata": {},
   "outputs": [],
   "source": [
    "import seaborn as sns\n",
    "import pandas as pd\n",
    "import cufflinks as cf\n",
    "from plotly.offline import iplot"
   ]
  },
  {
   "cell_type": "code",
   "execution_count": 29,
   "id": "f37c17af-f808-4849-b47d-e642a69ac8a8",
   "metadata": {},
   "outputs": [
    {
     "data": {
      "text/html": [
       "<div>\n",
       "<style scoped>\n",
       "    .dataframe tbody tr th:only-of-type {\n",
       "        vertical-align: middle;\n",
       "    }\n",
       "\n",
       "    .dataframe tbody tr th {\n",
       "        vertical-align: top;\n",
       "    }\n",
       "\n",
       "    .dataframe thead th {\n",
       "        text-align: right;\n",
       "    }\n",
       "</style>\n",
       "<table border=\"1\" class=\"dataframe\">\n",
       "  <thead>\n",
       "    <tr style=\"text-align: right;\">\n",
       "      <th></th>\n",
       "      <th>total_bill</th>\n",
       "      <th>tip</th>\n",
       "      <th>sex</th>\n",
       "      <th>smoker</th>\n",
       "      <th>day</th>\n",
       "      <th>time</th>\n",
       "      <th>size</th>\n",
       "    </tr>\n",
       "  </thead>\n",
       "  <tbody>\n",
       "    <tr>\n",
       "      <th>0</th>\n",
       "      <td>16.99</td>\n",
       "      <td>1.01</td>\n",
       "      <td>Female</td>\n",
       "      <td>No</td>\n",
       "      <td>Sun</td>\n",
       "      <td>Dinner</td>\n",
       "      <td>2</td>\n",
       "    </tr>\n",
       "    <tr>\n",
       "      <th>1</th>\n",
       "      <td>10.34</td>\n",
       "      <td>1.66</td>\n",
       "      <td>Male</td>\n",
       "      <td>No</td>\n",
       "      <td>Sun</td>\n",
       "      <td>Dinner</td>\n",
       "      <td>3</td>\n",
       "    </tr>\n",
       "    <tr>\n",
       "      <th>2</th>\n",
       "      <td>21.01</td>\n",
       "      <td>3.50</td>\n",
       "      <td>Male</td>\n",
       "      <td>No</td>\n",
       "      <td>Sun</td>\n",
       "      <td>Dinner</td>\n",
       "      <td>3</td>\n",
       "    </tr>\n",
       "    <tr>\n",
       "      <th>3</th>\n",
       "      <td>23.68</td>\n",
       "      <td>3.31</td>\n",
       "      <td>Male</td>\n",
       "      <td>No</td>\n",
       "      <td>Sun</td>\n",
       "      <td>Dinner</td>\n",
       "      <td>2</td>\n",
       "    </tr>\n",
       "    <tr>\n",
       "      <th>4</th>\n",
       "      <td>24.59</td>\n",
       "      <td>3.61</td>\n",
       "      <td>Female</td>\n",
       "      <td>No</td>\n",
       "      <td>Sun</td>\n",
       "      <td>Dinner</td>\n",
       "      <td>4</td>\n",
       "    </tr>\n",
       "    <tr>\n",
       "      <th>...</th>\n",
       "      <td>...</td>\n",
       "      <td>...</td>\n",
       "      <td>...</td>\n",
       "      <td>...</td>\n",
       "      <td>...</td>\n",
       "      <td>...</td>\n",
       "      <td>...</td>\n",
       "    </tr>\n",
       "    <tr>\n",
       "      <th>239</th>\n",
       "      <td>29.03</td>\n",
       "      <td>5.92</td>\n",
       "      <td>Male</td>\n",
       "      <td>No</td>\n",
       "      <td>Sat</td>\n",
       "      <td>Dinner</td>\n",
       "      <td>3</td>\n",
       "    </tr>\n",
       "    <tr>\n",
       "      <th>240</th>\n",
       "      <td>27.18</td>\n",
       "      <td>2.00</td>\n",
       "      <td>Female</td>\n",
       "      <td>Yes</td>\n",
       "      <td>Sat</td>\n",
       "      <td>Dinner</td>\n",
       "      <td>2</td>\n",
       "    </tr>\n",
       "    <tr>\n",
       "      <th>241</th>\n",
       "      <td>22.67</td>\n",
       "      <td>2.00</td>\n",
       "      <td>Male</td>\n",
       "      <td>Yes</td>\n",
       "      <td>Sat</td>\n",
       "      <td>Dinner</td>\n",
       "      <td>2</td>\n",
       "    </tr>\n",
       "    <tr>\n",
       "      <th>242</th>\n",
       "      <td>17.82</td>\n",
       "      <td>1.75</td>\n",
       "      <td>Male</td>\n",
       "      <td>No</td>\n",
       "      <td>Sat</td>\n",
       "      <td>Dinner</td>\n",
       "      <td>2</td>\n",
       "    </tr>\n",
       "    <tr>\n",
       "      <th>243</th>\n",
       "      <td>18.78</td>\n",
       "      <td>3.00</td>\n",
       "      <td>Female</td>\n",
       "      <td>No</td>\n",
       "      <td>Thur</td>\n",
       "      <td>Dinner</td>\n",
       "      <td>2</td>\n",
       "    </tr>\n",
       "  </tbody>\n",
       "</table>\n",
       "<p>244 rows × 7 columns</p>\n",
       "</div>"
      ],
      "text/plain": [
       "     total_bill   tip     sex smoker   day    time  size\n",
       "0         16.99  1.01  Female     No   Sun  Dinner     2\n",
       "1         10.34  1.66    Male     No   Sun  Dinner     3\n",
       "2         21.01  3.50    Male     No   Sun  Dinner     3\n",
       "3         23.68  3.31    Male     No   Sun  Dinner     2\n",
       "4         24.59  3.61  Female     No   Sun  Dinner     4\n",
       "..          ...   ...     ...    ...   ...     ...   ...\n",
       "239       29.03  5.92    Male     No   Sat  Dinner     3\n",
       "240       27.18  2.00  Female    Yes   Sat  Dinner     2\n",
       "241       22.67  2.00    Male    Yes   Sat  Dinner     2\n",
       "242       17.82  1.75    Male     No   Sat  Dinner     2\n",
       "243       18.78  3.00  Female     No  Thur  Dinner     2\n",
       "\n",
       "[244 rows x 7 columns]"
      ]
     },
     "execution_count": 29,
     "metadata": {},
     "output_type": "execute_result"
    }
   ],
   "source": [
    "tips = sns.load_dataset(\"tips\")\n",
    "tips"
   ]
  },
  {
   "cell_type": "code",
   "execution_count": 33,
   "id": "aa8cdc56-c252-4329-9e50-15c6123253e1",
   "metadata": {},
   "outputs": [
    {
     "name": "stderr",
     "output_type": "stream",
     "text": [
      "C:\\Users\\91892\\AppData\\Local\\Temp\\ipykernel_2032\\1916968049.py:1: FutureWarning:\n",
      "\n",
      "The default of observed=False is deprecated and will be changed to True in a future version of pandas. Pass observed=False to retain current behavior or observed=True to adopt the future default and silence this warning.\n",
      "\n"
     ]
    },
    {
     "data": {
      "text/plain": [
       "<Axes: xlabel='day'>"
      ]
     },
     "execution_count": 33,
     "metadata": {},
     "output_type": "execute_result"
    },
    {
     "data": {
      "image/png": "[encoded data removed]",
      "text/plain": [
       "<Figure size 640x480 with 1 Axes>"
      ]
     },
     "metadata": {},
     "output_type": "display_data"
    }
   ],
   "source": [
    "tips.groupby('day')['tip'].mean().plot(kind='bar')"
   ]
  },
  {
   "cell_type": "code",
   "execution_count": 36,
   "id": "19a5ab20-4138-4cf1-972f-0ed6bf6fe81a",
   "metadata": {},
   "outputs": [
    {
     "ename": "ValueError",
     "evalue": "\n    Invalid value of type 'builtins.str' received for the 'color' property of scatter.line\n        Received value: 'rgba(255, 153, 51, np.float64(1.0))'\n\n    The 'color' property is a color and may be specified as:\n      - A hex string (e.g. '#ff0000')\n      - An rgb/rgba string (e.g. 'rgb(255,0,0)')\n      - An hsl/hsla string (e.g. 'hsl(0,100%,50%)')\n      - An hsv/hsva string (e.g. 'hsv(0,100%,100%)')\n      - A named CSS color: see https://plotly.com/python/css-colors/ for a list",
     "output_type": "error",
     "traceback": [
      "\u001b[1;31m---------------------------------------------------------------------------\u001b[0m",
      "\u001b[1;31mValueError\u001b[0m                                Traceback (most recent call last)",
      "Cell \u001b[1;32mIn[36], line 1\u001b[0m\n\u001b[1;32m----> 1\u001b[0m \u001b[43mtips\u001b[49m\u001b[38;5;241;43m.\u001b[39;49m\u001b[43miplot\u001b[49m\u001b[43m(\u001b[49m\u001b[43mkind\u001b[49m\u001b[38;5;241;43m=\u001b[39;49m\u001b[38;5;124;43m'\u001b[39;49m\u001b[38;5;124;43mscatter\u001b[39;49m\u001b[38;5;124;43m'\u001b[39;49m\u001b[43m,\u001b[49m\u001b[43mx\u001b[49m\u001b[38;5;241;43m=\u001b[39;49m\u001b[38;5;124;43m'\u001b[39;49m\u001b[38;5;124;43mtotal_bill\u001b[39;49m\u001b[38;5;124;43m'\u001b[39;49m\u001b[43m,\u001b[49m\u001b[43my\u001b[49m\u001b[38;5;241;43m=\u001b[39;49m\u001b[38;5;124;43m'\u001b[39;49m\u001b[38;5;124;43mtip\u001b[39;49m\u001b[38;5;124;43m'\u001b[39;49m\u001b[43m,\u001b[49m\u001b[43mmode\u001b[49m\u001b[38;5;241;43m=\u001b[39;49m\u001b[38;5;124;43m'\u001b[39;49m\u001b[38;5;124;43mmarkers\u001b[39;49m\u001b[38;5;124;43m'\u001b[39;49m\u001b[43m)\u001b[49m\n",
      "File \u001b[1;32m~\\.conda\\envs\\myenv\\lib\\site-packages\\cufflinks\\plotlytools.py:839\u001b[0m, in \u001b[0;36m_iplot\u001b[1;34m(self, kind, data, layout, filename, sharing, title, xTitle, yTitle, zTitle, theme, colors, colorscale, fill, width, dash, mode, interpolation, symbol, size, barmode, sortbars, bargap, bargroupgap, bins, histnorm, histfunc, orientation, boxpoints, annotations, keys, bestfit, bestfit_colors, mean, mean_colors, categories, x, y, z, text, gridcolor, zerolinecolor, margin, labels, values, secondary_y, secondary_y_title, subplots, shape, error_x, error_y, error_type, locations, lon, lat, asFrame, asDates, asFigure, asImage, dimensions, asPlot, asUrl, online, **kwargs)\u001b[0m\n\u001b[0;32m    837\u001b[0m \t\u001b[38;5;28;01mif\u001b[39;00m \u001b[38;5;129;01mnot\u001b[39;00m \u001b[38;5;28misinstance\u001b[39m(text,\u001b[38;5;28mlist\u001b[39m):\n\u001b[0;32m    838\u001b[0m \t\ttext\u001b[38;5;241m=\u001b[39m\u001b[38;5;28mself\u001b[39m[text]\u001b[38;5;241m.\u001b[39mvalues\n\u001b[1;32m--> 839\u001b[0m data\u001b[38;5;241m=\u001b[39mdf\u001b[38;5;241m.\u001b[39mto_iplot(colors\u001b[38;5;241m=\u001b[39mcolors,colorscale\u001b[38;5;241m=\u001b[39mcolorscale,kind\u001b[38;5;241m=\u001b[39mkind,interpolation\u001b[38;5;241m=\u001b[39minterpolation,fill\u001b[38;5;241m=\u001b[39mfill,width\u001b[38;5;241m=\u001b[39mwidth,dash\u001b[38;5;241m=\u001b[39mdash,sortbars\u001b[38;5;241m=\u001b[39msortbars,keys\u001b[38;5;241m=\u001b[39mkeys,\n\u001b[0;32m    840\u001b[0m \t\tbestfit\u001b[38;5;241m=\u001b[39mbestfit,bestfit_colors\u001b[38;5;241m=\u001b[39mbestfit_colors,mean\u001b[38;5;241m=\u001b[39mmean,mean_colors\u001b[38;5;241m=\u001b[39mmean_colors,asDates\u001b[38;5;241m=\u001b[39masDates,mode\u001b[38;5;241m=\u001b[39mmode,symbol\u001b[38;5;241m=\u001b[39msymbol,size\u001b[38;5;241m=\u001b[39msize,\n\u001b[0;32m    841\u001b[0m \t\ttext\u001b[38;5;241m=\u001b[39mtext,\u001b[38;5;241m*\u001b[39m\u001b[38;5;241m*\u001b[39mkwargs)\t\t\n\u001b[0;32m    842\u001b[0m trace_kw\u001b[38;5;241m=\u001b[39mcheck_kwargs(kwargs,TRACE_KWARGS)\n\u001b[0;32m    843\u001b[0m \u001b[38;5;28;01mfor\u001b[39;00m trace \u001b[38;5;129;01min\u001b[39;00m data:\n",
      "File \u001b[1;32m~\\.conda\\envs\\myenv\\lib\\site-packages\\cufflinks\\plotlytools.py:161\u001b[0m, in \u001b[0;36m_to_iplot\u001b[1;34m(self, colors, colorscale, kind, mode, interpolation, symbol, size, fill, width, dash, sortbars, keys, bestfit, bestfit_colors, opacity, mean, mean_colors, asDates, asTimestamp, text, **kwargs)\u001b[0m\n\u001b[0;32m    159\u001b[0m \tlines_plotly\u001b[38;5;241m=\u001b[39m[Bar(lines[key])\u001b[38;5;241m.\u001b[39mto_plotly_json() \u001b[38;5;28;01mfor\u001b[39;00m key \u001b[38;5;129;01min\u001b[39;00m keys]\n\u001b[0;32m    160\u001b[0m \u001b[38;5;28;01melse\u001b[39;00m:\n\u001b[1;32m--> 161\u001b[0m \tlines_plotly\u001b[38;5;241m=\u001b[39m[Scatter(lines[key])\u001b[38;5;241m.\u001b[39mto_plotly_json() \u001b[38;5;28;01mfor\u001b[39;00m key \u001b[38;5;129;01min\u001b[39;00m keys]\n\u001b[0;32m    162\u001b[0m \u001b[38;5;28;01mfor\u001b[39;00m trace \u001b[38;5;129;01min\u001b[39;00m lines_plotly:\n\u001b[0;32m    163\u001b[0m \t\u001b[38;5;28;01mif\u001b[39;00m \u001b[38;5;28misinstance\u001b[39m(trace[\u001b[38;5;124m'\u001b[39m\u001b[38;5;124mname\u001b[39m\u001b[38;5;124m'\u001b[39m],pd\u001b[38;5;241m.\u001b[39mTimestamp):\n",
      "File \u001b[1;32m~\\.conda\\envs\\myenv\\lib\\site-packages\\cufflinks\\plotlytools.py:161\u001b[0m, in \u001b[0;36m<listcomp>\u001b[1;34m(.0)\u001b[0m\n\u001b[0;32m    159\u001b[0m \tlines_plotly\u001b[38;5;241m=\u001b[39m[Bar(lines[key])\u001b[38;5;241m.\u001b[39mto_plotly_json() \u001b[38;5;28;01mfor\u001b[39;00m key \u001b[38;5;129;01min\u001b[39;00m keys]\n\u001b[0;32m    160\u001b[0m \u001b[38;5;28;01melse\u001b[39;00m:\n\u001b[1;32m--> 161\u001b[0m \tlines_plotly\u001b[38;5;241m=\u001b[39m[\u001b[43mScatter\u001b[49m\u001b[43m(\u001b[49m\u001b[43mlines\u001b[49m\u001b[43m[\u001b[49m\u001b[43mkey\u001b[49m\u001b[43m]\u001b[49m\u001b[43m)\u001b[49m\u001b[38;5;241m.\u001b[39mto_plotly_json() \u001b[38;5;28;01mfor\u001b[39;00m key \u001b[38;5;129;01min\u001b[39;00m keys]\n\u001b[0;32m    162\u001b[0m \u001b[38;5;28;01mfor\u001b[39;00m trace \u001b[38;5;129;01min\u001b[39;00m lines_plotly:\n\u001b[0;32m    163\u001b[0m \t\u001b[38;5;28;01mif\u001b[39;00m \u001b[38;5;28misinstance\u001b[39m(trace[\u001b[38;5;124m'\u001b[39m\u001b[38;5;124mname\u001b[39m\u001b[38;5;124m'\u001b[39m],pd\u001b[38;5;241m.\u001b[39mTimestamp):\n",
      "File \u001b[1;32m~\\.conda\\envs\\myenv\\lib\\site-packages\\plotly\\graph_objs\\_scatter.py:2703\u001b[0m, in \u001b[0;36mScatter.__init__\u001b[1;34m(self, arg, alignmentgroup, cliponaxis, connectgaps, customdata, customdatasrc, dx, dy, error_x, error_y, fill, fillcolor, fillgradient, fillpattern, groupnorm, hoverinfo, hoverinfosrc, hoverlabel, hoveron, hovertemplate, hovertemplatesrc, hovertext, hovertextsrc, ids, idssrc, legend, legendgroup, legendgrouptitle, legendrank, legendwidth, line, marker, meta, metasrc, mode, name, offsetgroup, opacity, orientation, selected, selectedpoints, showlegend, stackgaps, stackgroup, stream, text, textfont, textposition, textpositionsrc, textsrc, texttemplate, texttemplatesrc, uid, uirevision, unselected, visible, x, x0, xaxis, xcalendar, xhoverformat, xperiod, xperiod0, xperiodalignment, xsrc, y, y0, yaxis, ycalendar, yhoverformat, yperiod, yperiod0, yperiodalignment, ysrc, zorder, **kwargs)\u001b[0m\n\u001b[0;32m   2701\u001b[0m \u001b[38;5;28mself\u001b[39m\u001b[38;5;241m.\u001b[39m_set_property(\u001b[38;5;124m\"\u001b[39m\u001b[38;5;124mlegendrank\u001b[39m\u001b[38;5;124m\"\u001b[39m, arg, legendrank)\n\u001b[0;32m   2702\u001b[0m \u001b[38;5;28mself\u001b[39m\u001b[38;5;241m.\u001b[39m_set_property(\u001b[38;5;124m\"\u001b[39m\u001b[38;5;124mlegendwidth\u001b[39m\u001b[38;5;124m\"\u001b[39m, arg, legendwidth)\n\u001b[1;32m-> 2703\u001b[0m \u001b[38;5;28;43mself\u001b[39;49m\u001b[38;5;241;43m.\u001b[39;49m\u001b[43m_set_property\u001b[49m\u001b[43m(\u001b[49m\u001b[38;5;124;43m\"\u001b[39;49m\u001b[38;5;124;43mline\u001b[39;49m\u001b[38;5;124;43m\"\u001b[39;49m\u001b[43m,\u001b[49m\u001b[43m \u001b[49m\u001b[43marg\u001b[49m\u001b[43m,\u001b[49m\u001b[43m \u001b[49m\u001b[43mline\u001b[49m\u001b[43m)\u001b[49m\n\u001b[0;32m   2704\u001b[0m \u001b[38;5;28mself\u001b[39m\u001b[38;5;241m.\u001b[39m_set_property(\u001b[38;5;124m\"\u001b[39m\u001b[38;5;124mmarker\u001b[39m\u001b[38;5;124m\"\u001b[39m, arg, marker)\n\u001b[0;32m   2705\u001b[0m \u001b[38;5;28mself\u001b[39m\u001b[38;5;241m.\u001b[39m_set_property(\u001b[38;5;124m\"\u001b[39m\u001b[38;5;124mmeta\u001b[39m\u001b[38;5;124m\"\u001b[39m, arg, meta)\n",
      "File \u001b[1;32m~\\.conda\\envs\\myenv\\lib\\site-packages\\plotly\\basedatatypes.py:4403\u001b[0m, in \u001b[0;36mBasePlotlyType._set_property\u001b[1;34m(self, name, arg, provided)\u001b[0m\n\u001b[0;32m   4397\u001b[0m \u001b[38;5;28;01mdef\u001b[39;00m\u001b[38;5;250m \u001b[39m\u001b[38;5;21m_set_property\u001b[39m(\u001b[38;5;28mself\u001b[39m, name, arg, provided):\n\u001b[0;32m   4398\u001b[0m \u001b[38;5;250m    \u001b[39m\u001b[38;5;124;03m\"\"\"\u001b[39;00m\n\u001b[0;32m   4399\u001b[0m \u001b[38;5;124;03m    Initialize a property of this object using the provided value\u001b[39;00m\n\u001b[0;32m   4400\u001b[0m \u001b[38;5;124;03m    or a value popped from the arguments dictionary. If neither\u001b[39;00m\n\u001b[0;32m   4401\u001b[0m \u001b[38;5;124;03m    is available, do not set the property.\u001b[39;00m\n\u001b[0;32m   4402\u001b[0m \u001b[38;5;124;03m    \"\"\"\u001b[39;00m\n\u001b[1;32m-> 4403\u001b[0m     \u001b[43m_set_property_provided_value\u001b[49m\u001b[43m(\u001b[49m\u001b[38;5;28;43mself\u001b[39;49m\u001b[43m,\u001b[49m\u001b[43m \u001b[49m\u001b[43mname\u001b[49m\u001b[43m,\u001b[49m\u001b[43m \u001b[49m\u001b[43marg\u001b[49m\u001b[43m,\u001b[49m\u001b[43m \u001b[49m\u001b[43mprovided\u001b[49m\u001b[43m)\u001b[49m\n",
      "File \u001b[1;32m~\\.conda\\envs\\myenv\\lib\\site-packages\\plotly\\basedatatypes.py:398\u001b[0m, in \u001b[0;36m_set_property_provided_value\u001b[1;34m(obj, name, arg, provided)\u001b[0m\n\u001b[0;32m    396\u001b[0m val \u001b[38;5;241m=\u001b[39m provided \u001b[38;5;28;01mif\u001b[39;00m provided \u001b[38;5;129;01mis\u001b[39;00m \u001b[38;5;129;01mnot\u001b[39;00m \u001b[38;5;28;01mNone\u001b[39;00m \u001b[38;5;28;01melse\u001b[39;00m val\n\u001b[0;32m    397\u001b[0m \u001b[38;5;28;01mif\u001b[39;00m val \u001b[38;5;129;01mis\u001b[39;00m \u001b[38;5;129;01mnot\u001b[39;00m \u001b[38;5;28;01mNone\u001b[39;00m:\n\u001b[1;32m--> 398\u001b[0m     \u001b[43mobj\u001b[49m\u001b[43m[\u001b[49m\u001b[43mname\u001b[49m\u001b[43m]\u001b[49m \u001b[38;5;241m=\u001b[39m val\n",
      "File \u001b[1;32m~\\.conda\\envs\\myenv\\lib\\site-packages\\plotly\\basedatatypes.py:4924\u001b[0m, in \u001b[0;36mBasePlotlyType.__setitem__\u001b[1;34m(self, prop, value)\u001b[0m\n\u001b[0;32m   4922\u001b[0m \u001b[38;5;66;03m# ### Handle compound property ###\u001b[39;00m\n\u001b[0;32m   4923\u001b[0m \u001b[38;5;28;01mif\u001b[39;00m \u001b[38;5;28misinstance\u001b[39m(validator, CompoundValidator):\n\u001b[1;32m-> 4924\u001b[0m     \u001b[38;5;28;43mself\u001b[39;49m\u001b[38;5;241;43m.\u001b[39;49m\u001b[43m_set_compound_prop\u001b[49m\u001b[43m(\u001b[49m\u001b[43mprop\u001b[49m\u001b[43m,\u001b[49m\u001b[43m \u001b[49m\u001b[43mvalue\u001b[49m\u001b[43m)\u001b[49m\n\u001b[0;32m   4926\u001b[0m \u001b[38;5;66;03m# ### Handle compound array property ###\u001b[39;00m\n\u001b[0;32m   4927\u001b[0m \u001b[38;5;28;01melif\u001b[39;00m \u001b[38;5;28misinstance\u001b[39m(validator, (CompoundArrayValidator, BaseDataValidator)):\n",
      "File \u001b[1;32m~\\.conda\\envs\\myenv\\lib\\site-packages\\plotly\\basedatatypes.py:5335\u001b[0m, in \u001b[0;36mBasePlotlyType._set_compound_prop\u001b[1;34m(self, prop, val)\u001b[0m\n\u001b[0;32m   5332\u001b[0m \u001b[38;5;66;03m# Import value\u001b[39;00m\n\u001b[0;32m   5333\u001b[0m \u001b[38;5;66;03m# ------------\u001b[39;00m\n\u001b[0;32m   5334\u001b[0m validator \u001b[38;5;241m=\u001b[39m \u001b[38;5;28mself\u001b[39m\u001b[38;5;241m.\u001b[39m_get_validator(prop)\n\u001b[1;32m-> 5335\u001b[0m val \u001b[38;5;241m=\u001b[39m \u001b[43mvalidator\u001b[49m\u001b[38;5;241;43m.\u001b[39;49m\u001b[43mvalidate_coerce\u001b[49m\u001b[43m(\u001b[49m\u001b[43mval\u001b[49m\u001b[43m,\u001b[49m\u001b[43m \u001b[49m\u001b[43mskip_invalid\u001b[49m\u001b[38;5;241;43m=\u001b[39;49m\u001b[38;5;28;43mself\u001b[39;49m\u001b[38;5;241;43m.\u001b[39;49m\u001b[43m_skip_invalid\u001b[49m\u001b[43m)\u001b[49m\n\u001b[0;32m   5337\u001b[0m \u001b[38;5;66;03m# Save deep copies of current and new states\u001b[39;00m\n\u001b[0;32m   5338\u001b[0m \u001b[38;5;66;03m# ------------------------------------------\u001b[39;00m\n\u001b[0;32m   5339\u001b[0m curr_val \u001b[38;5;241m=\u001b[39m \u001b[38;5;28mself\u001b[39m\u001b[38;5;241m.\u001b[39m_compound_props\u001b[38;5;241m.\u001b[39mget(prop, \u001b[38;5;28;01mNone\u001b[39;00m)\n",
      "File \u001b[1;32m~\\.conda\\envs\\myenv\\lib\\site-packages\\_plotly_utils\\basevalidators.py:2425\u001b[0m, in \u001b[0;36mCompoundValidator.validate_coerce\u001b[1;34m(self, v, skip_invalid, _validate)\u001b[0m\n\u001b[0;32m   2422\u001b[0m     v \u001b[38;5;241m=\u001b[39m \u001b[38;5;28mself\u001b[39m\u001b[38;5;241m.\u001b[39mdata_class()\n\u001b[0;32m   2424\u001b[0m \u001b[38;5;28;01melif\u001b[39;00m \u001b[38;5;28misinstance\u001b[39m(v, \u001b[38;5;28mdict\u001b[39m):\n\u001b[1;32m-> 2425\u001b[0m     v \u001b[38;5;241m=\u001b[39m \u001b[38;5;28;43mself\u001b[39;49m\u001b[38;5;241;43m.\u001b[39;49m\u001b[43mdata_class\u001b[49m\u001b[43m(\u001b[49m\u001b[43mv\u001b[49m\u001b[43m,\u001b[49m\u001b[43m \u001b[49m\u001b[43mskip_invalid\u001b[49m\u001b[38;5;241;43m=\u001b[39;49m\u001b[43mskip_invalid\u001b[49m\u001b[43m,\u001b[49m\u001b[43m \u001b[49m\u001b[43m_validate\u001b[49m\u001b[38;5;241;43m=\u001b[39;49m\u001b[43m_validate\u001b[49m\u001b[43m)\u001b[49m\n\u001b[0;32m   2427\u001b[0m \u001b[38;5;28;01melif\u001b[39;00m \u001b[38;5;28misinstance\u001b[39m(v, \u001b[38;5;28mself\u001b[39m\u001b[38;5;241m.\u001b[39mdata_class):\n\u001b[0;32m   2428\u001b[0m     \u001b[38;5;66;03m# Copy object\u001b[39;00m\n\u001b[0;32m   2429\u001b[0m     v \u001b[38;5;241m=\u001b[39m \u001b[38;5;28mself\u001b[39m\u001b[38;5;241m.\u001b[39mdata_class(v)\n",
      "File \u001b[1;32m~\\.conda\\envs\\myenv\\lib\\site-packages\\plotly\\graph_objs\\scatter\\_line.py:303\u001b[0m, in \u001b[0;36mLine.__init__\u001b[1;34m(self, arg, backoff, backoffsrc, color, dash, shape, simplify, smoothing, width, **kwargs)\u001b[0m\n\u001b[0;32m    301\u001b[0m \u001b[38;5;28mself\u001b[39m\u001b[38;5;241m.\u001b[39m_set_property(\u001b[38;5;124m\"\u001b[39m\u001b[38;5;124mbackoff\u001b[39m\u001b[38;5;124m\"\u001b[39m, arg, backoff)\n\u001b[0;32m    302\u001b[0m \u001b[38;5;28mself\u001b[39m\u001b[38;5;241m.\u001b[39m_set_property(\u001b[38;5;124m\"\u001b[39m\u001b[38;5;124mbackoffsrc\u001b[39m\u001b[38;5;124m\"\u001b[39m, arg, backoffsrc)\n\u001b[1;32m--> 303\u001b[0m \u001b[38;5;28;43mself\u001b[39;49m\u001b[38;5;241;43m.\u001b[39;49m\u001b[43m_set_property\u001b[49m\u001b[43m(\u001b[49m\u001b[38;5;124;43m\"\u001b[39;49m\u001b[38;5;124;43mcolor\u001b[39;49m\u001b[38;5;124;43m\"\u001b[39;49m\u001b[43m,\u001b[49m\u001b[43m \u001b[49m\u001b[43marg\u001b[49m\u001b[43m,\u001b[49m\u001b[43m \u001b[49m\u001b[43mcolor\u001b[49m\u001b[43m)\u001b[49m\n\u001b[0;32m    304\u001b[0m \u001b[38;5;28mself\u001b[39m\u001b[38;5;241m.\u001b[39m_set_property(\u001b[38;5;124m\"\u001b[39m\u001b[38;5;124mdash\u001b[39m\u001b[38;5;124m\"\u001b[39m, arg, dash)\n\u001b[0;32m    305\u001b[0m \u001b[38;5;28mself\u001b[39m\u001b[38;5;241m.\u001b[39m_set_property(\u001b[38;5;124m\"\u001b[39m\u001b[38;5;124mshape\u001b[39m\u001b[38;5;124m\"\u001b[39m, arg, shape)\n",
      "File \u001b[1;32m~\\.conda\\envs\\myenv\\lib\\site-packages\\plotly\\basedatatypes.py:4403\u001b[0m, in \u001b[0;36mBasePlotlyType._set_property\u001b[1;34m(self, name, arg, provided)\u001b[0m\n\u001b[0;32m   4397\u001b[0m \u001b[38;5;28;01mdef\u001b[39;00m\u001b[38;5;250m \u001b[39m\u001b[38;5;21m_set_property\u001b[39m(\u001b[38;5;28mself\u001b[39m, name, arg, provided):\n\u001b[0;32m   4398\u001b[0m \u001b[38;5;250m    \u001b[39m\u001b[38;5;124;03m\"\"\"\u001b[39;00m\n\u001b[0;32m   4399\u001b[0m \u001b[38;5;124;03m    Initialize a property of this object using the provided value\u001b[39;00m\n\u001b[0;32m   4400\u001b[0m \u001b[38;5;124;03m    or a value popped from the arguments dictionary. If neither\u001b[39;00m\n\u001b[0;32m   4401\u001b[0m \u001b[38;5;124;03m    is available, do not set the property.\u001b[39;00m\n\u001b[0;32m   4402\u001b[0m \u001b[38;5;124;03m    \"\"\"\u001b[39;00m\n\u001b[1;32m-> 4403\u001b[0m     \u001b[43m_set_property_provided_value\u001b[49m\u001b[43m(\u001b[49m\u001b[38;5;28;43mself\u001b[39;49m\u001b[43m,\u001b[49m\u001b[43m \u001b[49m\u001b[43mname\u001b[49m\u001b[43m,\u001b[49m\u001b[43m \u001b[49m\u001b[43marg\u001b[49m\u001b[43m,\u001b[49m\u001b[43m \u001b[49m\u001b[43mprovided\u001b[49m\u001b[43m)\u001b[49m\n",
      "File \u001b[1;32m~\\.conda\\envs\\myenv\\lib\\site-packages\\plotly\\basedatatypes.py:398\u001b[0m, in \u001b[0;36m_set_property_provided_value\u001b[1;34m(obj, name, arg, provided)\u001b[0m\n\u001b[0;32m    396\u001b[0m val \u001b[38;5;241m=\u001b[39m provided \u001b[38;5;28;01mif\u001b[39;00m provided \u001b[38;5;129;01mis\u001b[39;00m \u001b[38;5;129;01mnot\u001b[39;00m \u001b[38;5;28;01mNone\u001b[39;00m \u001b[38;5;28;01melse\u001b[39;00m val\n\u001b[0;32m    397\u001b[0m \u001b[38;5;28;01mif\u001b[39;00m val \u001b[38;5;129;01mis\u001b[39;00m \u001b[38;5;129;01mnot\u001b[39;00m \u001b[38;5;28;01mNone\u001b[39;00m:\n\u001b[1;32m--> 398\u001b[0m     \u001b[43mobj\u001b[49m\u001b[43m[\u001b[49m\u001b[43mname\u001b[49m\u001b[43m]\u001b[49m \u001b[38;5;241m=\u001b[39m val\n",
      "File \u001b[1;32m~\\.conda\\envs\\myenv\\lib\\site-packages\\plotly\\basedatatypes.py:4932\u001b[0m, in \u001b[0;36mBasePlotlyType.__setitem__\u001b[1;34m(self, prop, value)\u001b[0m\n\u001b[0;32m   4928\u001b[0m         \u001b[38;5;28mself\u001b[39m\u001b[38;5;241m.\u001b[39m_set_array_prop(prop, value)\n\u001b[0;32m   4930\u001b[0m     \u001b[38;5;66;03m# ### Handle simple property ###\u001b[39;00m\n\u001b[0;32m   4931\u001b[0m     \u001b[38;5;28;01melse\u001b[39;00m:\n\u001b[1;32m-> 4932\u001b[0m         \u001b[38;5;28;43mself\u001b[39;49m\u001b[38;5;241;43m.\u001b[39;49m\u001b[43m_set_prop\u001b[49m\u001b[43m(\u001b[49m\u001b[43mprop\u001b[49m\u001b[43m,\u001b[49m\u001b[43m \u001b[49m\u001b[43mvalue\u001b[49m\u001b[43m)\u001b[49m\n\u001b[0;32m   4933\u001b[0m \u001b[38;5;28;01melse\u001b[39;00m:\n\u001b[0;32m   4934\u001b[0m     \u001b[38;5;66;03m# Make sure properties dict is initialized\u001b[39;00m\n\u001b[0;32m   4935\u001b[0m     \u001b[38;5;28mself\u001b[39m\u001b[38;5;241m.\u001b[39m_init_props()\n",
      "File \u001b[1;32m~\\.conda\\envs\\myenv\\lib\\site-packages\\plotly\\basedatatypes.py:5276\u001b[0m, in \u001b[0;36mBasePlotlyType._set_prop\u001b[1;34m(self, prop, val)\u001b[0m\n\u001b[0;32m   5274\u001b[0m         \u001b[38;5;28;01mreturn\u001b[39;00m\n\u001b[0;32m   5275\u001b[0m     \u001b[38;5;28;01melse\u001b[39;00m:\n\u001b[1;32m-> 5276\u001b[0m         \u001b[38;5;28;01mraise\u001b[39;00m err\n\u001b[0;32m   5278\u001b[0m \u001b[38;5;66;03m# val is None\u001b[39;00m\n\u001b[0;32m   5279\u001b[0m \u001b[38;5;66;03m# -----------\u001b[39;00m\n\u001b[0;32m   5280\u001b[0m \u001b[38;5;28;01mif\u001b[39;00m val \u001b[38;5;129;01mis\u001b[39;00m \u001b[38;5;28;01mNone\u001b[39;00m:\n\u001b[0;32m   5281\u001b[0m     \u001b[38;5;66;03m# Check if we should send null update\u001b[39;00m\n",
      "File \u001b[1;32m~\\.conda\\envs\\myenv\\lib\\site-packages\\plotly\\basedatatypes.py:5271\u001b[0m, in \u001b[0;36mBasePlotlyType._set_prop\u001b[1;34m(self, prop, val)\u001b[0m\n\u001b[0;32m   5268\u001b[0m validator \u001b[38;5;241m=\u001b[39m \u001b[38;5;28mself\u001b[39m\u001b[38;5;241m.\u001b[39m_get_validator(prop)\n\u001b[0;32m   5270\u001b[0m \u001b[38;5;28;01mtry\u001b[39;00m:\n\u001b[1;32m-> 5271\u001b[0m     val \u001b[38;5;241m=\u001b[39m \u001b[43mvalidator\u001b[49m\u001b[38;5;241;43m.\u001b[39;49m\u001b[43mvalidate_coerce\u001b[49m\u001b[43m(\u001b[49m\u001b[43mval\u001b[49m\u001b[43m)\u001b[49m\n\u001b[0;32m   5272\u001b[0m \u001b[38;5;28;01mexcept\u001b[39;00m \u001b[38;5;167;01mValueError\u001b[39;00m \u001b[38;5;28;01mas\u001b[39;00m err:\n\u001b[0;32m   5273\u001b[0m     \u001b[38;5;28;01mif\u001b[39;00m \u001b[38;5;28mself\u001b[39m\u001b[38;5;241m.\u001b[39m_skip_invalid:\n",
      "File \u001b[1;32m~\\.conda\\envs\\myenv\\lib\\site-packages\\_plotly_utils\\basevalidators.py:1374\u001b[0m, in \u001b[0;36mColorValidator.validate_coerce\u001b[1;34m(self, v, should_raise)\u001b[0m\n\u001b[0;32m   1372\u001b[0m     validated_v \u001b[38;5;241m=\u001b[39m \u001b[38;5;28mself\u001b[39m\u001b[38;5;241m.\u001b[39mvc_scalar(v)\n\u001b[0;32m   1373\u001b[0m     \u001b[38;5;28;01mif\u001b[39;00m validated_v \u001b[38;5;129;01mis\u001b[39;00m \u001b[38;5;28;01mNone\u001b[39;00m \u001b[38;5;129;01mand\u001b[39;00m should_raise:\n\u001b[1;32m-> 1374\u001b[0m         \u001b[38;5;28;43mself\u001b[39;49m\u001b[38;5;241;43m.\u001b[39;49m\u001b[43mraise_invalid_val\u001b[49m\u001b[43m(\u001b[49m\u001b[43mv\u001b[49m\u001b[43m)\u001b[49m\n\u001b[0;32m   1376\u001b[0m     v \u001b[38;5;241m=\u001b[39m validated_v\n\u001b[0;32m   1378\u001b[0m \u001b[38;5;28;01mreturn\u001b[39;00m v\n",
      "File \u001b[1;32m~\\.conda\\envs\\myenv\\lib\\site-packages\\_plotly_utils\\basevalidators.py:298\u001b[0m, in \u001b[0;36mBaseValidator.raise_invalid_val\u001b[1;34m(self, v, inds)\u001b[0m\n\u001b[0;32m    295\u001b[0m             \u001b[38;5;28;01mfor\u001b[39;00m i \u001b[38;5;129;01min\u001b[39;00m inds:\n\u001b[0;32m    296\u001b[0m                 name \u001b[38;5;241m+\u001b[39m\u001b[38;5;241m=\u001b[39m \u001b[38;5;124m\"\u001b[39m\u001b[38;5;124m[\u001b[39m\u001b[38;5;124m\"\u001b[39m \u001b[38;5;241m+\u001b[39m \u001b[38;5;28mstr\u001b[39m(i) \u001b[38;5;241m+\u001b[39m \u001b[38;5;124m\"\u001b[39m\u001b[38;5;124m]\u001b[39m\u001b[38;5;124m\"\u001b[39m\n\u001b[1;32m--> 298\u001b[0m         \u001b[38;5;28;01mraise\u001b[39;00m \u001b[38;5;167;01mValueError\u001b[39;00m(\n\u001b[0;32m    299\u001b[0m \u001b[38;5;250m            \u001b[39m\u001b[38;5;124;03m\"\"\"\u001b[39;00m\n\u001b[0;32m    300\u001b[0m \u001b[38;5;124;03m    Invalid value of type {typ} received for the '{name}' property of {pname}\u001b[39;00m\n\u001b[0;32m    301\u001b[0m \u001b[38;5;124;03m        Received value: {v}\u001b[39;00m\n\u001b[0;32m    302\u001b[0m \n\u001b[0;32m    303\u001b[0m \u001b[38;5;124;03m{valid_clr_desc}\"\"\"\u001b[39;00m\u001b[38;5;241m.\u001b[39mformat(\n\u001b[0;32m    304\u001b[0m                 name\u001b[38;5;241m=\u001b[39mname,\n\u001b[0;32m    305\u001b[0m                 pname\u001b[38;5;241m=\u001b[39m\u001b[38;5;28mself\u001b[39m\u001b[38;5;241m.\u001b[39mparent_name,\n\u001b[0;32m    306\u001b[0m                 typ\u001b[38;5;241m=\u001b[39mtype_str(v),\n\u001b[0;32m    307\u001b[0m                 v\u001b[38;5;241m=\u001b[39m\u001b[38;5;28mrepr\u001b[39m(v),\n\u001b[0;32m    308\u001b[0m                 valid_clr_desc\u001b[38;5;241m=\u001b[39m\u001b[38;5;28mself\u001b[39m\u001b[38;5;241m.\u001b[39mdescription(),\n\u001b[0;32m    309\u001b[0m             )\n\u001b[0;32m    310\u001b[0m         )\n",
      "\u001b[1;31mValueError\u001b[0m: \n    Invalid value of type 'builtins.str' received for the 'color' property of scatter.line\n        Received value: 'rgba(255, 153, 51, np.float64(1.0))'\n\n    The 'color' property is a color and may be specified as:\n      - A hex string (e.g. '#ff0000')\n      - An rgb/rgba string (e.g. 'rgb(255,0,0)')\n      - An hsl/hsla string (e.g. 'hsl(0,100%,50%)')\n      - An hsv/hsva string (e.g. 'hsv(0,100%,100%)')\n      - A named CSS color: see https://plotly.com/python/css-colors/ for a list"
     ]
    }
   ],
   "source": [
    "tips.iplot(kind='scatter',x='total_bill',y='tip',mode='markers')"
   ]
  },
  {
   "cell_type": "code",
   "execution_count": null,
   "id": "20a62941-dba4-4398-885b-a76ae88126fa",
   "metadata": {},
   "outputs": [],
   "source": []
  }
 ],
 "metadata": {
  "kernelspec": {
   "display_name": "Python (myenv)",
   "language": "python",
   "name": "myenv"
  },
  "language_info": {
   "codemirror_mode": {
    "name": "ipython",
    "version": 3
   },
   "file_extension": ".py",
   "mimetype": "text/x-python",
   "name": "python",
   "nbconvert_exporter": "python",
   "pygments_lexer": "ipython3",
   "version": "3.10.18"
  }
 },
 "nbformat": 4,
 "nbformat_minor": 5
}
